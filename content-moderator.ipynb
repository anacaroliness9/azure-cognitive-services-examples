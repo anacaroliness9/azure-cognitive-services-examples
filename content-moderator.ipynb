{
 "metadata": {
  "language_info": {
   "codemirror_mode": {
    "name": "ipython",
    "version": 3
   },
   "file_extension": ".py",
   "mimetype": "text/x-python",
   "name": "python",
   "nbconvert_exporter": "python",
   "pygments_lexer": "ipython3",
   "version": "3.8.5-final"
  },
  "orig_nbformat": 2,
  "kernelspec": {
   "name": "python3",
   "display_name": "Python 3.8.5 64-bit (conda)",
   "metadata": {
    "interpreter": {
     "hash": "ae3aa6c730e1edb1dd98cf035d1e9499e7ec05eacdf7289be61cfcb5b0ba0660"
    }
   }
  }
 },
 "nbformat": 4,
 "nbformat_minor": 2,
 "cells": [
  {
   "cell_type": "code",
   "execution_count": 1,
   "metadata": {},
   "outputs": [
    {
     "output_type": "stream",
     "name": "stdout",
     "text": [
      "Collecting azure-cognitiveservices-vision-contentmoderator\n  Downloading azure_cognitiveservices_vision_contentmoderator-1.0.0-py2.py3-none-any.whl (40 kB)\nCollecting azure-common~=1.1\n  Using cached azure_common-1.1.26-py2.py3-none-any.whl (12 kB)\nCollecting msrest>=0.5.0\n  Using cached msrest-0.6.21-py2.py3-none-any.whl (85 kB)\nRequirement already satisfied, skipping upgrade: requests~=2.16 in c:\\users\\anacarolines\\anaconda3\\lib\\site-packages (from msrest>=0.5.0->azure-cognitiveservices-vision-contentmoderator) (2.24.0)\nCollecting requests-oauthlib>=0.5.0\n  Using cached requests_oauthlib-1.3.0-py2.py3-none-any.whl (23 kB)\nRequirement already satisfied, skipping upgrade: certifi>=2017.4.17 in c:\\users\\anacarolines\\anaconda3\\lib\\site-packages (from msrest>=0.5.0->azure-cognitiveservices-vision-contentmoderator) (2020.6.20)\nCollecting isodate>=0.6.0\n  Using cached isodate-0.6.0-py2.py3-none-any.whl (45 kB)\nRequirement already satisfied, skipping upgrade: idna<3,>=2.5 in c:\\users\\anacarolines\\anaconda3\\lib\\site-packages (from requests~=2.16->msrest>=0.5.0->azure-cognitiveservices-vision-contentmoderator) (2.10)\nRequirement already satisfied, skipping upgrade: urllib3!=1.25.0,!=1.25.1,<1.26,>=1.21.1 in c:\\users\\anacarolines\\anaconda3\\lib\\site-packages (from requests~=2.16->msrest>=0.5.0->azure-cognitiveservices-vision-contentmoderator) (1.25.11)\nRequirement already satisfied, skipping upgrade: chardet<4,>=3.0.2 in c:\\users\\anacarolines\\anaconda3\\lib\\site-packages (from requests~=2.16->msrest>=0.5.0->azure-cognitiveservices-vision-contentmoderator) (3.0.4)\nCollecting oauthlib>=3.0.0\n  Using cached oauthlib-3.1.0-py2.py3-none-any.whl (147 kB)\nRequirement already satisfied, skipping upgrade: six in c:\\users\\anacarolines\\anaconda3\\lib\\site-packages (from isodate>=0.6.0->msrest>=0.5.0->azure-cognitiveservices-vision-contentmoderator) (1.15.0)\nInstalling collected packages: azure-common, oauthlib, requests-oauthlib, isodate, msrest, azure-cognitiveservices-vision-contentmoderator\nSuccessfully installed azure-cognitiveservices-vision-contentmoderator-1.0.0 azure-common-1.1.26 isodate-0.6.0 msrest-0.6.21 oauthlib-3.1.0 requests-oauthlib-1.3.0\n"
     ]
    }
   ],
   "source": [
    "!pip install --upgrade azure-cognitiveservices-vision-contentmoderator\n"
   ]
  },
  {
   "source": [
    "# Azure Cognitive Language Services: Content Moderator"
   ],
   "cell_type": "markdown",
   "metadata": {}
  },
  {
   "source": [
    "* Reference: https://docs.microsoft.com/en-us/azure/cognitive-services/Content-Moderator/client-libraries?pivots=programming-language-python&tabs=visual-studio"
   ],
   "cell_type": "markdown",
   "metadata": {}
  },
  {
   "cell_type": "code",
   "execution_count": 1,
   "metadata": {},
   "outputs": [],
   "source": [
    "import os.path\n",
    "from pprint import pprint\n",
    "import time\n",
    "from io import BytesIO\n",
    "from random import random\n",
    "import uuid\n",
    "import yaml\n",
    "import os, sys\n",
    "\n",
    "from azure.cognitiveservices.vision.contentmoderator import ContentModeratorClient\n",
    "import azure.cognitiveservices.vision.contentmoderator.models\n",
    "from msrest.authentication import CognitiveServicesCredentials"
   ]
  },
  {
   "source": [
    "Load Configs"
   ],
   "cell_type": "markdown",
   "metadata": {}
  },
  {
   "cell_type": "code",
   "execution_count": 2,
   "metadata": {},
   "outputs": [],
   "source": [
    "config_file = os.path.join(\"config\",\"config.yaml\")\n",
    "with open(config_file, 'r') as ymlfile:\n",
    "    config = yaml.load(ymlfile, Loader=yaml.FullLoader)\n",
    "\n",
    "typee = 'content_moderator'\n",
    "key= config[typee]['key']\n",
    "endpoint = config[typee]['endpoint']"
   ]
  },
  {
   "cell_type": "code",
   "execution_count": 3,
   "metadata": {},
   "outputs": [],
   "source": [
    "files = \"text_files\""
   ]
  },
  {
   "source": [
    "Authenticate the client\n"
   ],
   "cell_type": "markdown",
   "metadata": {}
  },
  {
   "cell_type": "code",
   "execution_count": 4,
   "metadata": {},
   "outputs": [],
   "source": [
    "client = ContentModeratorClient(\n",
    "    endpoint=endpoint,\n",
    "    credentials=CognitiveServicesCredentials(key)\n",
    ")"
   ]
  },
  {
   "source": [
    "## Moderate Text"
   ],
   "cell_type": "markdown",
   "metadata": {}
  },
  {
   "cell_type": "code",
   "execution_count": 5,
   "metadata": {},
   "outputs": [
    {
     "output_type": "stream",
     "name": "stdout",
     "text": [
      "{'auto_corrected_text': 'Is this a garbage email abcdef@abcd.com, phone: '\n                        '4255550111, IP: 255.255.255.255, 1234 Main Boulevard, '\n                        'Pentapolis WA 96555.\\r\\n'\n                        'Crap is the profanity here. Is this information PII? '\n                        'phone 2065550111',\n 'language': 'eng',\n 'normalized_text': '   grabage email abcdef@abcd.com, phone: 4255550111, IP: '\n                    '255.255.255.255, 1234 Main Boulevard, Panapolis WA '\n                    '96555.\\r\\n'\n                    'Crap   profanity .   information PII? phone 2065550111',\n 'original_text': 'Is this a grabage email abcdef@abcd.com, phone: 4255550111, '\n                  'IP: 255.255.255.255, 1234 Main Boulevard, Panapolis WA '\n                  '96555.\\r\\n'\n                  'Crap is the profanity here. Is this information PII? phone '\n                  '2065550111',\n 'pii': {'address': [{'index': 81,\n                      'text': '1234 Main Boulevard, Panapolis WA 96555'}],\n         'email': [{'detected': 'abcdef@abcd.com',\n                    'index': 24,\n                    'sub_type': 'Regular',\n                    'text': 'abcdef@abcd.com'}],\n         'ipa': [{'index': 64, 'sub_type': 'IPV4', 'text': '255.255.255.255'}],\n         'phone': [{'country_code': 'US', 'index': 48, 'text': '4255550111'},\n                   {'country_code': 'US', 'index': 182, 'text': '2065550111'}],\n         'ssn': []},\n 'status': {'code': 3000, 'description': 'OK'},\n 'terms': [{'index': 116, 'list_id': 0, 'original_index': 123, 'term': 'crap'}],\n 'tracking_id': 'd82015cf-46ed-4307-80fd-ff1633e5daaf'}\n"
     ]
    }
   ],
   "source": [
    "# Screen the input text: check for profanity,\n",
    "# do autocorrect text, and check for personally identifying\n",
    "# information (PII)\n",
    "with open(os.path.join(files, 'content_moderator_text_moderation.txt'), \"rb\") as text_fd:\n",
    "    screen = client.text_moderation.screen_text(\n",
    "        text_content_type=\"text/plain\",\n",
    "        text_content=text_fd,\n",
    "        language=\"eng\",\n",
    "        autocorrect=True,\n",
    "        pii=True\n",
    "    )\n",
    "    pprint(screen.as_dict())"
   ]
  },
  {
   "source": [
    "## Use a custom terms list"
   ],
   "cell_type": "markdown",
   "metadata": {}
  },
  {
   "cell_type": "code",
   "execution_count": 6,
   "metadata": {},
   "outputs": [
    {
     "output_type": "stream",
     "name": "stdout",
     "text": [
      "\n",
      "Creating list\n",
      "List created:\n",
      "{'description': 'Term list description', 'id': 169, 'name': 'Term list name'}\n"
     ]
    }
   ],
   "source": [
    "#\n",
    "# Create list\n",
    "#\n",
    "print(\"\\nCreating list\")\n",
    "custom_list = client.list_management_term_lists.create(\n",
    "    content_type=\"application/json\",\n",
    "    body={\n",
    "        \"name\": \"Term list name\",\n",
    "        \"description\": \"Term list description\",\n",
    "    }\n",
    ")\n",
    "print(\"List created:\")\n",
    "pprint(custom_list.as_dict())\n",
    "list_id = custom_list.id"
   ]
  },
  {
   "cell_type": "code",
   "execution_count": 7,
   "metadata": {},
   "outputs": [
    {
     "output_type": "stream",
     "name": "stdout",
     "text": [
      "\n",
      "Updating details for list 169\n",
      "{'description': 'New description', 'id': 169, 'name': 'New name'}\n"
     ]
    }
   ],
   "source": [
    "#\n",
    "# Update list details\n",
    "#\n",
    "print(\"\\nUpdating details for list {}\".format(list_id))\n",
    "updated_list = client.list_management_term_lists.update(\n",
    "    list_id=list_id,\n",
    "    content_type=\"application/json\",\n",
    "    body={\n",
    "        \"name\": \"New name\",\n",
    "        \"description\": \"New description\"\n",
    "    }\n",
    ")\n",
    "pprint(updated_list.as_dict())"
   ]
  },
  {
   "cell_type": "code",
   "execution_count": 8,
   "metadata": {},
   "outputs": [
    {
     "output_type": "stream",
     "name": "stdout",
     "text": [
      "\nAdding terms to list 169\n"
     ]
    },
    {
     "output_type": "execute_result",
     "data": {
      "text/plain": [
       "{'ContentId': '24140',\n",
       " 'AdditionalInfo': [{'Key': 'Source', 'Value': '169'}],\n",
       " 'Status': {'Code': 3000, 'Description': 'OK', 'Exception': None},\n",
       " 'TrackingId': 'f0d2fa05-d60c-471a-9340-4d8966432605'}"
      ]
     },
     "metadata": {},
     "execution_count": 8
    }
   ],
   "source": [
    "#\n",
    "# Add terms\n",
    "#\n",
    "print(\"\\nAdding terms to list {}\".format(list_id))\n",
    "client.list_management_term.add_term(\n",
    "    list_id=list_id,\n",
    "    term=\"term1\",\n",
    "    language=\"eng\"\n",
    ")\n",
    "client.list_management_term.add_term(\n",
    "    list_id=list_id,\n",
    "    term=\"term2\",\n",
    "    language=\"eng\"\n",
    ")"
   ]
  },
  {
   "cell_type": "code",
   "execution_count": 9,
   "metadata": {},
   "outputs": [
    {
     "output_type": "stream",
     "name": "stdout",
     "text": [
      "\n",
      "Getting all term IDs for list 169\n",
      "{'language': 'eng',\n",
      " 'status': {'code': 3000, 'description': 'OK'},\n",
      " 'terms': [{'term': 'term1'}, {'term': 'term2'}],\n",
      " 'tracking_id': 'b877248f-baee-4ffa-be10-0ce7ebb551b7'}\n"
     ]
    }
   ],
   "source": [
    "#\n",
    "# Get all terms ids\n",
    "#\n",
    "print(\"\\nGetting all term IDs for list {}\".format(list_id))\n",
    "terms = client.list_management_term.get_all_terms(\n",
    "    list_id=list_id, language=\"eng\")\n",
    "terms_data = terms.data\n",
    "pprint(terms_data.as_dict())"
   ]
  },
  {
   "cell_type": "code",
   "execution_count": 10,
   "metadata": {},
   "outputs": [
    {
     "output_type": "stream",
     "name": "stdout",
     "text": [
      "\n",
      "Refreshing the search index for list 169\n",
      "{'advanced_info': [],\n",
      " 'content_source_id': '169',\n",
      " 'is_update_success': True,\n",
      " 'status': {'code': 3000, 'description': 'OK'},\n",
      " 'tracking_id': 'f90262d3-0480-43f9-9761-85d250d5f9b9'}\n",
      "\n",
      "Waiting 1 minutes to allow the server time to propagate the index changes.\n"
     ]
    }
   ],
   "source": [
    "#\n",
    "# Refresh the index\n",
    "#Whenever you add or remove terms from the list, you must refresh the index before you can use the updated list.\n",
    "#\n",
    "LATENCY_DELAY =1\n",
    "\n",
    "print(\"\\nRefreshing the search index for list {}\".format(list_id))\n",
    "refresh_index = client.list_management_term_lists.refresh_index_method(\n",
    "    list_id=list_id, language=\"eng\")\n",
    "pprint(refresh_index.as_dict())\n",
    "\n",
    "print(\"\\nWaiting {} minutes to allow the server time to propagate the index changes.\".format(\n",
    "    LATENCY_DELAY))\n",
    "time.sleep(LATENCY_DELAY * 60)"
   ]
  },
  {
   "cell_type": "code",
   "execution_count": 12,
   "metadata": {},
   "outputs": [
    {
     "output_type": "stream",
     "name": "stdout",
     "text": [
      "{'language': 'eng',\n 'normalized_text': ' text contains  terms \"term1\"  \"term2\".',\n 'original_text': 'This text contains the terms \"term1\" and \"term2\".',\n 'status': {'code': 3000, 'description': 'OK'},\n 'terms': [{'index': 23, 'list_id': 169, 'original_index': 30, 'term': 'term1'},\n           {'index': 32,\n            'list_id': 169,\n            'original_index': 42,\n            'term': 'term2'}],\n 'tracking_id': 'a2a988ca-395e-47d0-bd66-31e720376df7'}\n"
     ]
    }
   ],
   "source": [
    "#\n",
    "# Screen text\n",
    "#\n",
    "with open(os.path.join(files, 'content_moderator_term_list.txt'), \"rb\") as text_fd:\n",
    "    screen = client.text_moderation.screen_text(\n",
    "        text_content_type=\"text/plain\",\n",
    "        text_content=text_fd,\n",
    "        language=\"eng\",\n",
    "        autocorrect=False,\n",
    "        pii=False,\n",
    "        list_id=list_id\n",
    "    )\n",
    "    pprint(screen.as_dict())"
   ]
  },
  {
   "cell_type": "code",
   "execution_count": 13,
   "metadata": {},
   "outputs": [
    {
     "output_type": "stream",
     "name": "stdout",
     "text": [
      "\nRemove term term1 from list 169\n"
     ]
    }
   ],
   "source": [
    "#\n",
    "# Remove terms\n",
    "#\n",
    "term_to_remove = \"term1\"\n",
    "print(\"\\nRemove term {} from list {}\".format(term_to_remove, list_id))\n",
    "client.list_management_term.delete_term(\n",
    "    list_id=list_id,\n",
    "    term=term_to_remove,\n",
    "    language=\"eng\"\n",
    ")"
   ]
  },
  {
   "cell_type": "code",
   "execution_count": 14,
   "metadata": {},
   "outputs": [
    {
     "output_type": "stream",
     "name": "stdout",
     "text": [
      "\nDelete all terms in the image list 169\n"
     ]
    }
   ],
   "source": [
    "#\n",
    "# Delete all terms\n",
    "#\n",
    "print(\"\\nDelete all terms in the image list {}\".format(list_id))\n",
    "client.list_management_term.delete_all_terms(\n",
    "    list_id=list_id, language=\"eng\")"
   ]
  },
  {
   "cell_type": "code",
   "execution_count": 15,
   "metadata": {},
   "outputs": [
    {
     "output_type": "stream",
     "name": "stdout",
     "text": [
      "\nDelete the term list 169\n"
     ]
    }
   ],
   "source": [
    "#\n",
    "# Delete list\n",
    "#\n",
    "print(\"\\nDelete the term list {}\".format(list_id))\n",
    "client.list_management_term_lists.delete(list_id=list_id)"
   ]
  },
  {
   "source": [
    "## Moderate images\n"
   ],
   "cell_type": "markdown",
   "metadata": {}
  },
  {
   "cell_type": "code",
   "execution_count": 17,
   "metadata": {},
   "outputs": [
    {
     "output_type": "stream",
     "name": "stdout",
     "text": [
      "\nEvaluate image https://moderatorsampleimages.blob.core.windows.net/samples/sample2.jpg\n\nEvaluate image https://moderatorsampleimages.blob.core.windows.net/samples/sample5.png\n"
     ]
    }
   ],
   "source": [
    "IMAGE_LIST = [\n",
    "    \"https://moderatorsampleimages.blob.core.windows.net/samples/sample2.jpg\",\n",
    "    \"https://moderatorsampleimages.blob.core.windows.net/samples/sample5.png\"\n",
    "]\n",
    "\n",
    "for image_url in IMAGE_LIST:\n",
    "    print(\"\\nEvaluate image {}\".format(image_url))\n",
    "    "
   ]
  },
  {
   "source": [
    "Check for adult/racy content\n"
   ],
   "cell_type": "markdown",
   "metadata": {}
  },
  {
   "cell_type": "code",
   "execution_count": 18,
   "metadata": {},
   "outputs": [
    {
     "output_type": "stream",
     "name": "stdout",
     "text": [
      "\n",
      "Evaluate for adult and racy content.\n",
      "{'adult_classification_score': 0.0014388329582288861,\n",
      " 'advanced_info': [{'key': 'ImageDownloadTimeInMs', 'value': '649'},\n",
      "                   {'key': 'ImageSizeInBytes', 'value': '2278902'}],\n",
      " 'cache_id': '2a3338ff-f31a-493f-8c5a-12dfbc591549_637510085748285827',\n",
      " 'is_image_adult_classified': False,\n",
      " 'is_image_racy_classified': False,\n",
      " 'racy_classification_score': 0.0046299152309075,\n",
      " 'result': False,\n",
      " 'status': {'code': 3000, 'description': 'OK'},\n",
      " 'tracking_id': '1754d0ca-73e6-49fe-a042-7575b77e91c7'}\n"
     ]
    }
   ],
   "source": [
    "print(\"\\nEvaluate for adult and racy content.\")\n",
    "evaluation = client.image_moderation.evaluate_url_input(\n",
    "    content_type=\"application/json\",\n",
    "    cache_image=True,\n",
    "    data_representation=\"URL\",\n",
    "    value=image_url\n",
    ")\n",
    "pprint(evaluation.as_dict())"
   ]
  },
  {
   "source": [
    "Check for visible text\n"
   ],
   "cell_type": "markdown",
   "metadata": {}
  },
  {
   "cell_type": "code",
   "execution_count": 20,
   "metadata": {},
   "outputs": [
    {
     "output_type": "stream",
     "name": "stdout",
     "text": [
      "\n",
      "Detect and extract text.\n",
      "{'candidates': [],\n",
      " 'language': 'eng',\n",
      " 'metadata': [{'key': 'ImageDownloadTimeInMs', 'value': '605'},\n",
      "              {'key': 'ImageSizeInBytes', 'value': '2278902'}],\n",
      " 'status': {'code': 3000, 'description': 'OK'},\n",
      " 'text': '',\n",
      " 'tracking_id': '8a5f722c-d636-48ed-bdd1-bff9746c27ac'}\n"
     ]
    }
   ],
   "source": [
    "print(\"\\nDetect and extract text.\")\n",
    "evaluation = client.image_moderation.ocr_url_input(\n",
    "    language=\"eng\",\n",
    "    content_type=\"application/json\",\n",
    "    data_representation=\"URL\",\n",
    "    value=image_url,\n",
    "    cache_image=True,\n",
    ")\n",
    "pprint(evaluation.as_dict())"
   ]
  },
  {
   "source": [
    "Check for faces\n"
   ],
   "cell_type": "markdown",
   "metadata": {}
  },
  {
   "cell_type": "code",
   "execution_count": 22,
   "metadata": {},
   "outputs": [
    {
     "output_type": "stream",
     "name": "stdout",
     "text": [
      "\n",
      "Detect faces.\n",
      "{'advanced_info': [{'key': 'ImageDownloadTimeInMs', 'value': '514'},\n",
      "                   {'key': 'ImageSizeInBytes', 'value': '2278902'}],\n",
      " 'count': 6,\n",
      " 'faces': [{'bottom': 633, 'left': 297, 'right': 531, 'top': 399},\n",
      "           {'bottom': 503, 'left': 1228, 'right': 1453, 'top': 278},\n",
      "           {'bottom': 595, 'left': 47, 'right': 257, 'top': 385},\n",
      "           {'bottom': 619, 'left': 966, 'right': 1168, 'top': 417},\n",
      "           {'bottom': 590, 'left': 589, 'right': 781, 'top': 398},\n",
      "           {'bottom': 578, 'left': 807, 'right': 978, 'top': 407}],\n",
      " 'result': True,\n",
      " 'status': {'code': 3000, 'description': 'OK'},\n",
      " 'tracking_id': '59630e88-217d-4c4b-892b-a4f7f8869ef8'}\n"
     ]
    }
   ],
   "source": [
    "print(\"\\nDetect faces.\")\n",
    "evaluation = client.image_moderation.find_faces_url_input(\n",
    "    content_type=\"application/json\",\n",
    "    cache_image=True,\n",
    "    data_representation=\"URL\",\n",
    "    value=image_url\n",
    ")\n",
    "pprint(evaluation.as_dict())"
   ]
  },
  {
   "source": [
    "Use a custom image list\n"
   ],
   "cell_type": "markdown",
   "metadata": {}
  },
  {
   "cell_type": "code",
   "execution_count": 24,
   "metadata": {},
   "outputs": [],
   "source": [
    "IMAGE_LIST = {\n",
    "    \"Sports\": [\n",
    "        \"https://moderatorsampleimages.blob.core.windows.net/samples/sample4.png\",\n",
    "        \"https://moderatorsampleimages.blob.core.windows.net/samples/sample6.png\",\n",
    "        \"https://moderatorsampleimages.blob.core.windows.net/samples/sample9.png\"\n",
    "    ],\n",
    "    \"Swimsuit\": [\n",
    "        \"https://moderatorsampleimages.blob.core.windows.net/samples/sample1.jpg\",\n",
    "        \"https://moderatorsampleimages.blob.core.windows.net/samples/sample3.png\",\n",
    "        \"https://moderatorsampleimages.blob.core.windows.net/samples/sample4.png\",\n",
    "        \"https://moderatorsampleimages.blob.core.windows.net/samples/sample16.png\"\n",
    "    ]\n",
    "}\n",
    "\n",
    "IMAGES_TO_MATCH = [\n",
    "    \"https://moderatorsampleimages.blob.core.windows.net/samples/sample1.jpg\",\n",
    "    \"https://moderatorsampleimages.blob.core.windows.net/samples/sample4.png\",\n",
    "    \"https://moderatorsampleimages.blob.core.windows.net/samples/sample5.png\",\n",
    "    \"https://moderatorsampleimages.blob.core.windows.net/samples/sample16.png\"\n",
    "]"
   ]
  },
  {
   "cell_type": "code",
   "execution_count": 26,
   "metadata": {},
   "outputs": [
    {
     "output_type": "stream",
     "name": "stdout",
     "text": [
      "Creating list MyList\n",
      "\n",
      "List created:\n",
      "{'description': 'A sample list',\n",
      " 'id': 941908,\n",
      " 'metadata': {'key_one': 'Acceptable', 'key_two': 'Potentially racy'},\n",
      " 'name': 'MyList'}\n"
     ]
    }
   ],
   "source": [
    "#\n",
    "# Create list\n",
    "#\n",
    "print(\"Creating list MyList\\n\")\n",
    "custom_list = client.list_management_image_lists.create(\n",
    "    content_type=\"application/json\",\n",
    "    body={\n",
    "        \"name\": \"MyList\",\n",
    "        \"description\": \"A sample list\",\n",
    "        \"metadata\": {\n",
    "            \"key_one\": \"Acceptable\",\n",
    "            \"key_two\": \"Potentially racy\"\n",
    "        }\n",
    "    }\n",
    ")\n",
    "print(\"List created:\")\n",
    "pprint(custom_list.as_dict())\n",
    "list_id = custom_list.id"
   ]
  },
  {
   "source": [
    "Add images to a list\n"
   ],
   "cell_type": "markdown",
   "metadata": {}
  },
  {
   "cell_type": "code",
   "execution_count": 29,
   "metadata": {},
   "outputs": [],
   "source": [
    "#\n",
    "# Add images\n",
    "#\n",
    "def add_images(list_id, image_url, label):\n",
    "    \"\"\"Generic add_images from url and label.\"\"\"\n",
    "    print(\"\\nAdding image {} to list {} with label {}.\".format(\n",
    "        image_url, list_id, label))\n",
    "    try:\n",
    "        added_image = client.list_management_image.add_image_url_input(\n",
    "            list_id=list_id,\n",
    "            content_type=\"application/json\",\n",
    "            data_representation=\"URL\",\n",
    "            value=image_url,\n",
    "            label=label\n",
    "        )\n",
    "    except APIErrorException as err:\n",
    "        # sample4 will fail\n",
    "        print(\"Unable to add image to list: {}\".format(err))\n",
    "    else:\n",
    "        pprint(added_image.as_dict())\n",
    "        return added_image"
   ]
  },
  {
   "cell_type": "code",
   "execution_count": 30,
   "metadata": {},
   "outputs": [
    {
     "output_type": "stream",
     "name": "stdout",
     "text": [
      "\n",
      "Adding images to list 941908\n",
      "\n",
      "Adding image https://moderatorsampleimages.blob.core.windows.net/samples/sample4.png to list 941908 with label Sports.\n",
      "{'additional_info': [{'key': 'ImageDownloadTimeInMs', 'value': '589'},\n",
      "                     {'key': 'ImageSizeInBytes', 'value': '2945548'},\n",
      "                     {'key': 'Source', 'value': '941908'}],\n",
      " 'content_id': '1167266',\n",
      " 'status': {'code': 3000, 'description': 'OK'},\n",
      " 'tracking_id': '92e52083-37d3-4132-8bd7-26798ba14693'}\n",
      "\n",
      "Adding image https://moderatorsampleimages.blob.core.windows.net/samples/sample6.png to list 941908 with label Sports.\n",
      "{'additional_info': [{'key': 'ImageDownloadTimeInMs', 'value': '642'},\n",
      "                     {'key': 'ImageSizeInBytes', 'value': '2440050'},\n",
      "                     {'key': 'Source', 'value': '941908'}],\n",
      " 'content_id': '1167268',\n",
      " 'status': {'code': 3000, 'description': 'OK'},\n",
      " 'tracking_id': 'd3424cf0-727a-4d9f-b098-e08334aa7f97'}\n",
      "\n",
      "Adding image https://moderatorsampleimages.blob.core.windows.net/samples/sample9.png to list 941908 with label Sports.\n",
      "{'additional_info': [{'key': 'ImageDownloadTimeInMs', 'value': '147'},\n",
      "                     {'key': 'ImageSizeInBytes', 'value': '1631958'},\n",
      "                     {'key': 'Source', 'value': '941908'}],\n",
      " 'content_id': '1167269',\n",
      " 'status': {'code': 3000, 'description': 'OK'},\n",
      " 'tracking_id': '59b508f8-5ff1-4d8f-a0fe-75286c4aa48d'}\n",
      "\n",
      "Adding image https://moderatorsampleimages.blob.core.windows.net/samples/sample1.jpg to list 941908 with label Swimsuit.\n",
      "{'additional_info': [{'key': 'ImageDownloadTimeInMs', 'value': '292'},\n",
      "                     {'key': 'ImageSizeInBytes', 'value': '17280'},\n",
      "                     {'key': 'Source', 'value': '941908'}],\n",
      " 'content_id': '1167270',\n",
      " 'status': {'code': 3000, 'description': 'OK'},\n",
      " 'tracking_id': 'ae9130b8-6cea-4939-b931-1d7c694fea3c'}\n",
      "\n",
      "Adding image https://moderatorsampleimages.blob.core.windows.net/samples/sample3.png to list 941908 with label Swimsuit.\n",
      "{'additional_info': [{'key': 'ImageDownloadTimeInMs', 'value': '447'},\n",
      "                     {'key': 'ImageSizeInBytes', 'value': '1242855'},\n",
      "                     {'key': 'Source', 'value': '941908'}],\n",
      " 'content_id': '1167271',\n",
      " 'status': {'code': 3000, 'description': 'OK'},\n",
      " 'tracking_id': 'e71b78c8-88e8-4e4a-af76-7f464a0c1795'}\n",
      "\n",
      "Adding image https://moderatorsampleimages.blob.core.windows.net/samples/sample4.png to list 941908 with label Swimsuit.\n"
     ]
    },
    {
     "output_type": "error",
     "ename": "NameError",
     "evalue": "name 'APIErrorException' is not defined",
     "traceback": [
      "\u001b[1;31m---------------------------------------------------------------------------\u001b[0m",
      "\u001b[1;31mAPIErrorException\u001b[0m                         Traceback (most recent call last)",
      "\u001b[1;32m<ipython-input-29-8904476a1eb9>\u001b[0m in \u001b[0;36madd_images\u001b[1;34m(list_id, image_url, label)\u001b[0m\n\u001b[0;32m      8\u001b[0m     \u001b[1;32mtry\u001b[0m\u001b[1;33m:\u001b[0m\u001b[1;33m\u001b[0m\u001b[1;33m\u001b[0m\u001b[0m\n\u001b[1;32m----> 9\u001b[1;33m         added_image = client.list_management_image.add_image_url_input(\n\u001b[0m\u001b[0;32m     10\u001b[0m             \u001b[0mlist_id\u001b[0m\u001b[1;33m=\u001b[0m\u001b[0mlist_id\u001b[0m\u001b[1;33m,\u001b[0m\u001b[1;33m\u001b[0m\u001b[1;33m\u001b[0m\u001b[0m\n",
      "\u001b[1;32m~\\Anaconda3\\lib\\site-packages\\azure\\cognitiveservices\\vision\\contentmoderator\\operations\\list_management_image_operations.py\u001b[0m in \u001b[0;36madd_image_url_input\u001b[1;34m(self, list_id, content_type, tag, label, data_representation, value, custom_headers, raw, **operation_config)\u001b[0m\n\u001b[0;32m    317\u001b[0m         \u001b[1;32mif\u001b[0m \u001b[0mresponse\u001b[0m\u001b[1;33m.\u001b[0m\u001b[0mstatus_code\u001b[0m \u001b[1;32mnot\u001b[0m \u001b[1;32min\u001b[0m \u001b[1;33m[\u001b[0m\u001b[1;36m200\u001b[0m\u001b[1;33m]\u001b[0m\u001b[1;33m:\u001b[0m\u001b[1;33m\u001b[0m\u001b[1;33m\u001b[0m\u001b[0m\n\u001b[1;32m--> 318\u001b[1;33m             \u001b[1;32mraise\u001b[0m \u001b[0mmodels\u001b[0m\u001b[1;33m.\u001b[0m\u001b[0mAPIErrorException\u001b[0m\u001b[1;33m(\u001b[0m\u001b[0mself\u001b[0m\u001b[1;33m.\u001b[0m\u001b[0m_deserialize\u001b[0m\u001b[1;33m,\u001b[0m \u001b[0mresponse\u001b[0m\u001b[1;33m)\u001b[0m\u001b[1;33m\u001b[0m\u001b[1;33m\u001b[0m\u001b[0m\n\u001b[0m\u001b[0;32m    319\u001b[0m \u001b[1;33m\u001b[0m\u001b[0m\n",
      "\u001b[1;31mAPIErrorException\u001b[0m: Operation returned an invalid status code 'Conflict'",
      "\nDuring handling of the above exception, another exception occurred:\n",
      "\u001b[1;31mNameError\u001b[0m                                 Traceback (most recent call last)",
      "\u001b[1;32m<ipython-input-30-8b8a20b749d1>\u001b[0m in \u001b[0;36m<module>\u001b[1;34m\u001b[0m\n\u001b[0;32m      3\u001b[0m \u001b[1;32mfor\u001b[0m \u001b[0mlabel\u001b[0m\u001b[1;33m,\u001b[0m \u001b[0murls\u001b[0m \u001b[1;32min\u001b[0m \u001b[0mIMAGE_LIST\u001b[0m\u001b[1;33m.\u001b[0m\u001b[0mitems\u001b[0m\u001b[1;33m(\u001b[0m\u001b[1;33m)\u001b[0m\u001b[1;33m:\u001b[0m\u001b[1;33m\u001b[0m\u001b[1;33m\u001b[0m\u001b[0m\n\u001b[0;32m      4\u001b[0m     \u001b[1;32mfor\u001b[0m \u001b[0murl\u001b[0m \u001b[1;32min\u001b[0m \u001b[0murls\u001b[0m\u001b[1;33m:\u001b[0m\u001b[1;33m\u001b[0m\u001b[1;33m\u001b[0m\u001b[0m\n\u001b[1;32m----> 5\u001b[1;33m         \u001b[0mimage\u001b[0m \u001b[1;33m=\u001b[0m \u001b[0madd_images\u001b[0m\u001b[1;33m(\u001b[0m\u001b[0mlist_id\u001b[0m\u001b[1;33m,\u001b[0m \u001b[0murl\u001b[0m\u001b[1;33m,\u001b[0m \u001b[0mlabel\u001b[0m\u001b[1;33m)\u001b[0m\u001b[1;33m\u001b[0m\u001b[1;33m\u001b[0m\u001b[0m\n\u001b[0m\u001b[0;32m      6\u001b[0m         \u001b[1;32mif\u001b[0m \u001b[0mimage\u001b[0m\u001b[1;33m:\u001b[0m\u001b[1;33m\u001b[0m\u001b[1;33m\u001b[0m\u001b[0m\n\u001b[0;32m      7\u001b[0m             \u001b[0mindex\u001b[0m\u001b[1;33m[\u001b[0m\u001b[0murl\u001b[0m\u001b[1;33m]\u001b[0m \u001b[1;33m=\u001b[0m \u001b[0mimage\u001b[0m\u001b[1;33m.\u001b[0m\u001b[0mcontent_id\u001b[0m\u001b[1;33m\u001b[0m\u001b[1;33m\u001b[0m\u001b[0m\n",
      "\u001b[1;32m<ipython-input-29-8904476a1eb9>\u001b[0m in \u001b[0;36madd_images\u001b[1;34m(list_id, image_url, label)\u001b[0m\n\u001b[0;32m     14\u001b[0m             \u001b[0mlabel\u001b[0m\u001b[1;33m=\u001b[0m\u001b[0mlabel\u001b[0m\u001b[1;33m\u001b[0m\u001b[1;33m\u001b[0m\u001b[0m\n\u001b[0;32m     15\u001b[0m         )\n\u001b[1;32m---> 16\u001b[1;33m     \u001b[1;32mexcept\u001b[0m \u001b[0mAPIErrorException\u001b[0m \u001b[1;32mas\u001b[0m \u001b[0merr\u001b[0m\u001b[1;33m:\u001b[0m\u001b[1;33m\u001b[0m\u001b[1;33m\u001b[0m\u001b[0m\n\u001b[0m\u001b[0;32m     17\u001b[0m         \u001b[1;31m# sample4 will fail\u001b[0m\u001b[1;33m\u001b[0m\u001b[1;33m\u001b[0m\u001b[1;33m\u001b[0m\u001b[0m\n\u001b[0;32m     18\u001b[0m         \u001b[0mprint\u001b[0m\u001b[1;33m(\u001b[0m\u001b[1;34m\"Unable to add image to list: {}\"\u001b[0m\u001b[1;33m.\u001b[0m\u001b[0mformat\u001b[0m\u001b[1;33m(\u001b[0m\u001b[0merr\u001b[0m\u001b[1;33m)\u001b[0m\u001b[1;33m)\u001b[0m\u001b[1;33m\u001b[0m\u001b[1;33m\u001b[0m\u001b[0m\n",
      "\u001b[1;31mNameError\u001b[0m: name 'APIErrorException' is not defined"
     ]
    }
   ],
   "source": [
    "print(\"\\nAdding images to list {}\".format(list_id))\n",
    "index = {}  # Keep an index url to id for later removal\n",
    "for label, urls in IMAGE_LIST.items():\n",
    "    for url in urls:\n",
    "        image = add_images(list_id, url, label)\n",
    "        if image:\n",
    "            index[url] = image.content_id"
   ]
  },
  {
   "cell_type": "code",
   "execution_count": 32,
   "metadata": {},
   "outputs": [
    {
     "output_type": "stream",
     "name": "stdout",
     "text": [
      "\n",
      "Getting all image IDs for list 941908\n",
      "{'content_ids': [1167266, 1167268, 1167269, 1167270, 1167271],\n",
      " 'content_source': '941908',\n",
      " 'status': {'code': 3000, 'description': 'OK'},\n",
      " 'tracking_id': '2ec197e4-5ec1-4cf2-b60c-0e6e1b744865'}\n"
     ]
    }
   ],
   "source": [
    "#\n",
    "# Get all images ids\n",
    "#\n",
    "print(\"\\nGetting all image IDs for list {}\".format(list_id))\n",
    "image_ids = client.list_management_image.get_all_image_ids(list_id=list_id)\n",
    "pprint(image_ids.as_dict())"
   ]
  },
  {
   "cell_type": "code",
   "execution_count": 33,
   "metadata": {},
   "outputs": [
    {
     "output_type": "stream",
     "name": "stdout",
     "text": [
      "\n",
      "Updating details for list 941908\n",
      "{'id': 941908, 'name': 'Swimsuits and sports'}\n"
     ]
    }
   ],
   "source": [
    "#\n",
    "# Update list details\n",
    "#\n",
    "print(\"\\nUpdating details for list {}\".format(list_id))\n",
    "updated_list = client.list_management_image_lists.update(\n",
    "    list_id=list_id,\n",
    "    content_type=\"application/json\",\n",
    "    body={\n",
    "        \"name\": \"Swimsuits and sports\"\n",
    "    }\n",
    ")\n",
    "pprint(updated_list.as_dict())"
   ]
  },
  {
   "cell_type": "code",
   "execution_count": 35,
   "metadata": {},
   "outputs": [
    {
     "output_type": "stream",
     "name": "stdout",
     "text": [
      "\n",
      "Getting details for list 941908\n",
      "{'id': 941908, 'metadata': {}, 'name': 'Swimsuits and sports'}\n"
     ]
    }
   ],
   "source": [
    "#\n",
    "# Get list details\n",
    "#\n",
    "print(\"\\nGetting details for list {}\".format(list_id))\n",
    "list_details = client.list_management_image_lists.get_details(\n",
    "    list_id=list_id)\n",
    "pprint(list_details.as_dict())"
   ]
  },
  {
   "cell_type": "code",
   "execution_count": 36,
   "metadata": {},
   "outputs": [
    {
     "output_type": "stream",
     "name": "stdout",
     "text": [
      "\n",
      "Refreshing the search index for list 941908\n",
      "{'advanced_info': [],\n",
      " 'content_source_id': '941908',\n",
      " 'is_update_success': True,\n",
      " 'status': {'code': 3000, 'description': 'OK'},\n",
      " 'tracking_id': '0873571f-e7cb-4912-beaa-afec14031d9d'}\n",
      "\n",
      "Waiting 1 minutes to allow the server time to propagate the index changes.\n"
     ]
    }
   ],
   "source": [
    "#\n",
    "# Refresh the index\n",
    "#\n",
    "print(\"\\nRefreshing the search index for list {}\".format(list_id))\n",
    "refresh_index = client.list_management_image_lists.refresh_index_method(\n",
    "    list_id=list_id)\n",
    "pprint(refresh_index.as_dict())\n",
    "\n",
    "print(\"\\nWaiting {} minutes to allow the server time to propagate the index changes.\".format(\n",
    "    LATENCY_DELAY))\n",
    "time.sleep(LATENCY_DELAY * 60)"
   ]
  },
  {
   "cell_type": "code",
   "execution_count": 38,
   "metadata": {},
   "outputs": [
    {
     "output_type": "stream",
     "name": "stdout",
     "text": [
      "\n",
      "Matching image https://moderatorsampleimages.blob.core.windows.net/samples/sample1.jpg against list 941908\n",
      "Is match? True\n",
      "Complete match details:\n",
      "{'is_match': True,\n",
      " 'matches': [{'label': 'Swimsuit',\n",
      "              'match_id': 1167270,\n",
      "              'score': 1.0,\n",
      "              'source': '941908',\n",
      "              'tags': [0]}],\n",
      " 'status': {'code': 3000, 'description': 'OK'},\n",
      " 'tracking_id': 'a26e8024-7918-4559-81ea-68140bfedcfe'}\n",
      "\n",
      "Matching image https://moderatorsampleimages.blob.core.windows.net/samples/sample4.png against list 941908\n",
      "Is match? True\n",
      "Complete match details:\n",
      "{'is_match': True,\n",
      " 'matches': [{'label': 'Sports',\n",
      "              'match_id': 1167266,\n",
      "              'score': 1.0,\n",
      "              'source': '941908',\n",
      "              'tags': [0]}],\n",
      " 'status': {'code': 3000, 'description': 'OK'},\n",
      " 'tracking_id': '9df982db-c64d-423f-9295-8d87930a1365'}\n",
      "\n",
      "Matching image https://moderatorsampleimages.blob.core.windows.net/samples/sample5.png against list 941908\n",
      "Is match? False\n",
      "Complete match details:\n",
      "{'is_match': False,\n",
      " 'matches': [],\n",
      " 'status': {'code': 3000, 'description': 'OK'},\n",
      " 'tracking_id': '1dcb3455-7e91-43a3-98e8-11bf49166406'}\n",
      "\n",
      "Matching image https://moderatorsampleimages.blob.core.windows.net/samples/sample16.png against list 941908\n",
      "Is match? False\n",
      "Complete match details:\n",
      "{'is_match': False,\n",
      " 'matches': [],\n",
      " 'status': {'code': 3000, 'description': 'OK'},\n",
      " 'tracking_id': '74a8f874-93a2-492e-988b-bb905d61cfae'}\n"
     ]
    }
   ],
   "source": [
    "#\n",
    "# Match images against the image list.\n",
    "#\n",
    "for image_url in IMAGES_TO_MATCH:\n",
    "    print(\"\\nMatching image {} against list {}\".format(image_url, list_id))\n",
    "    match_result = client.image_moderation.match_url_input(\n",
    "        content_type=\"application/json\",\n",
    "        list_id=list_id,\n",
    "        data_representation=\"URL\",\n",
    "        value=image_url,\n",
    "    )\n",
    "    print(\"Is match? {}\".format(match_result.is_match))\n",
    "    print(\"Complete match details:\")\n",
    "    pprint(match_result.as_dict())"
   ]
  },
  {
   "cell_type": "code",
   "execution_count": null,
   "metadata": {},
   "outputs": [],
   "source": []
  }
 ]
}