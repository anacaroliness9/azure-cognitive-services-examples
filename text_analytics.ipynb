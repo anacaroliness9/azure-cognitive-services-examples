{
 "metadata": {
  "language_info": {
   "codemirror_mode": {
    "name": "ipython",
    "version": 3
   },
   "file_extension": ".py",
   "mimetype": "text/x-python",
   "name": "python",
   "nbconvert_exporter": "python",
   "pygments_lexer": "ipython3",
   "version": "3.8.5-final"
  },
  "orig_nbformat": 2,
  "kernelspec": {
   "name": "python3",
   "display_name": "Python 3.8.5 64-bit (conda)",
   "metadata": {
    "interpreter": {
     "hash": "ae3aa6c730e1edb1dd98cf035d1e9499e7ec05eacdf7289be61cfcb5b0ba0660"
    }
   }
  }
 },
 "nbformat": 4,
 "nbformat_minor": 2,
 "cells": [
  {
   "source": [
    "# Azure Cognitive Language Services: Text Analytics \n",
    "## Entity Recognition\n",
    "### REST API\n",
    "* Reference: https://docs.microsoft.com/en-us/learn/modules/recognize-entities-text-analytics-api/4-exercise-structure-submit-request?pivots=python"
   ],
   "cell_type": "markdown",
   "metadata": {}
  },
  {
   "cell_type": "code",
   "execution_count": 4,
   "metadata": {},
   "outputs": [],
   "source": [
    "from pip._vendor import requests\n",
    "# pprint is used to format the JSON response\n",
    "from pprint import pprint\n",
    "import os, yaml"
   ]
  },
  {
   "cell_type": "code",
   "execution_count": 19,
   "metadata": {},
   "outputs": [],
   "source": [
    "config_file = os.path.join(\"config\",\"config.yaml\")\n",
    "with open(config_file, 'r') as ymlfile:\n",
    "    config = yaml.load(ymlfile, Loader=yaml.FullLoader)\n",
    "\n",
    "typee = 'text_analytics'\n",
    "key= config[typee]['key']\n",
    "endpoint = config[typee]['endpoint'] + \"/text/analytics/{}/\".format(config[typee]['api-version'])\n"
   ]
  },
  {
   "cell_type": "code",
   "execution_count": 20,
   "metadata": {},
   "outputs": [],
   "source": [
    "\n",
    "# variable to store a JSON formatted document that contains two entries in a JSON array.\n",
    "documents = {\"documents\": [\n",
    "    {\"id\": \"1\", \"text\": \"Microsoft was founded by Bill Gates and Paul Allen on April 4, 1975, to develop and sell BASIC interpreters for the Altair 8800.\"},\n",
    "    {\"id\": \"2\", \"text\": \"La sede principal de Microsoft se encuentra en la ciudad de Redmond, a 21 kilómetros de Seattle.\"}\n",
    "]}"
   ]
  },
  {
   "cell_type": "code",
   "execution_count": 21,
   "metadata": {},
   "outputs": [],
   "source": [
    "def get_data_from_text_analytics(endpoint_api):\n",
    "    ''' Endpoints: entities, sentiment, languages, keyPhrases'''\n",
    "\n",
    "    # Setup the header information for the REST request passing in the subscription key\n",
    "    headers = {\"Ocp-Apim-Subscription-Key\": key}\n",
    "\n",
    "    # Build the REST request by passing in the complete URL, header information for authentication, and the JSON document\n",
    "    response = requests.post(endpoint + endpoint_api, headers=headers, json=documents)\n",
    "\n",
    "    # Create a variable to store the results that are returned from the REST request\n",
    "    entities = response.json()\n",
    "\n",
    "    # Output the result using pprint.\n",
    "    pprint(entities)"
   ]
  },
  {
   "cell_type": "code",
   "execution_count": 22,
   "metadata": {},
   "outputs": [
    {
     "output_type": "stream",
     "name": "stdout",
     "text": [
      "{'documents': [{'entities': [{'bingId': 'a093e9b9-90f5-a3d5-c4b8-5855e1b01f85',\n                              'matches': [{'entityTypeScore': 1.0,\n                                           'length': 9,\n                                           'offset': 0,\n                                           'text': 'Microsoft',\n                                           'wikipediaScore': 0.5080587142195991}],\n                              'name': 'Microsoft',\n                              'type': 'Organization',\n                              'wikipediaId': 'Microsoft',\n                              'wikipediaLanguage': 'en',\n                              'wikipediaUrl': 'https://en.wikipedia.org/wiki/Microsoft'},\n                             {'bingId': '0d47c987-0042-5576-15e8-97af601614fa',\n                              'matches': [{'entityTypeScore': 1.0,\n                                           'length': 10,\n                                           'offset': 25,\n                                           'text': 'Bill Gates',\n                                           'wikipediaScore': 0.5601095924849657}],\n                              'name': 'Bill Gates',\n                              'type': 'Person',\n                              'wikipediaId': 'Bill Gates',\n                              'wikipediaLanguage': 'en',\n                              'wikipediaUrl': 'https://en.wikipedia.org/wiki/Bill_Gates'},\n                             {'bingId': 'df2c4376-9923-6a54-893f-2ee5a5badbc7',\n                              'matches': [{'entityTypeScore': 1.0,\n                                           'length': 10,\n                                           'offset': 40,\n                                           'text': 'Paul Allen',\n                                           'wikipediaScore': 0.5647133956039234}],\n                              'name': 'Paul Allen',\n                              'type': 'Person',\n                              'wikipediaId': 'Paul Allen',\n                              'wikipediaLanguage': 'en',\n                              'wikipediaUrl': 'https://en.wikipedia.org/wiki/Paul_Allen'},\n                             {'bingId': '52535f87-235e-b513-54fe-c03e4233ac6e',\n                              'matches': [{'length': 7,\n                                           'offset': 54,\n                                           'text': 'April 4',\n                                           'wikipediaScore': 0.34538928435757743}],\n                              'name': 'April 4',\n                              'type': 'Other',\n                              'wikipediaId': 'April 4',\n                              'wikipediaLanguage': 'en',\n                              'wikipediaUrl': 'https://en.wikipedia.org/wiki/April_4'},\n                             {'matches': [{'entityTypeScore': 0.8,\n                                           'length': 13,\n                                           'offset': 54,\n                                           'text': 'April 4, 1975'}],\n                              'name': 'April 4, 1975',\n                              'subType': 'Date',\n                              'type': 'DateTime'},\n                             {'bingId': '5b16443d-501c-58f3-352e-611bbe75aa6e',\n                              'matches': [{'length': 5,\n                                           'offset': 89,\n                                           'text': 'BASIC',\n                                           'wikipediaScore': 0.313848923908594}],\n                              'name': 'BASIC',\n                              'type': 'Other',\n                              'wikipediaId': 'BASIC',\n                              'wikipediaLanguage': 'en',\n                              'wikipediaUrl': 'https://en.wikipedia.org/wiki/BASIC'},\n                             {'bingId': '7216c654-3779-68a2-c7b7-12ff3dad5606',\n                              'matches': [{'length': 11,\n                                           'offset': 116,\n                                           'text': 'Altair 8800',\n                                           'wikipediaScore': 0.8690828819485741}],\n                              'name': 'Altair 8800',\n                              'type': 'Other',\n                              'wikipediaId': 'Altair 8800',\n                              'wikipediaLanguage': 'en',\n                              'wikipediaUrl': 'https://en.wikipedia.org/wiki/Altair_8800'},\n                             {'matches': [{'entityTypeScore': 0.53,\n                                           'length': 6,\n                                           'offset': 116,\n                                           'text': 'Altair'}],\n                              'name': 'Altair',\n                              'type': 'Organization'},\n                             {'matches': [{'entityTypeScore': 0.8,\n                                           'length': 4,\n                                           'offset': 123,\n                                           'text': '8800'}],\n                              'name': '8800',\n                              'subType': 'Number',\n                              'type': 'Quantity'}],\n                'id': '1'},\n               {'entities': [{'bingId': '9958ca5c-ea31-4e71-8a17-bd1e7839c723',\n                              'matches': [{'length': 2,\n                                           'offset': 0,\n                                           'text': 'La',\n                                           'wikipediaScore': 0.30040765508151623}],\n                              'name': 'Los Angeles',\n                              'type': 'Location',\n                              'wikipediaId': 'Los Angeles',\n                              'wikipediaLanguage': 'en',\n                              'wikipediaUrl': 'https://en.wikipedia.org/wiki/Los_Angeles'},\n                             {'bingId': 'fcd618bb-507a-9e62-d79d-1a5879826c7b',\n                              'matches': [{'length': 12,\n                                           'offset': 21,\n                                           'text': 'Microsoft se',\n                                           'wikipediaScore': 0.7371098016659869}],\n                              'name': 'Microsoft Security Essentials',\n                              'type': 'Other',\n                              'wikipediaId': 'Microsoft Security Essentials',\n                              'wikipediaLanguage': 'en',\n                              'wikipediaUrl': 'https://en.wikipedia.org/wiki/Microsoft_Security_Essentials'},\n                             {'matches': [{'entityTypeScore': 0.98,\n                                           'length': 9,\n                                           'offset': 21,\n                                           'text': 'Microsoft'}],\n                              'name': 'Microsoft',\n                              'type': 'Organization'},\n                             {'bingId': '8769d4c0-b645-70ac-03ec-6eebabf6d26e',\n                              'matches': [{'length': 7,\n                                           'offset': 60,\n                                           'text': 'Redmond',\n                                           'wikipediaScore': 0.26409485301604274}],\n                              'name': 'Redmond, Washington',\n                              'type': 'Location',\n                              'wikipediaId': 'Redmond, Washington',\n                              'wikipediaLanguage': 'en',\n                              'wikipediaUrl': 'https://en.wikipedia.org/wiki/Redmond,_Washington'},\n                             {'matches': [{'entityTypeScore': 0.8,\n                                           'length': 2,\n                                           'offset': 71,\n                                           'text': '21'}],\n                              'name': '21',\n                              'subType': 'Number',\n                              'type': 'Quantity'},\n                             {'bingId': '5fbba6b8-85e1-4d41-9444-d9055436e473',\n                              'matches': [{'length': 7,\n                                           'offset': 88,\n                                           'text': 'Seattle',\n                                           'wikipediaScore': 0.2532550419415718}],\n                              'name': 'Seattle',\n                              'type': 'Location',\n                              'wikipediaId': 'Seattle',\n                              'wikipediaLanguage': 'en',\n                              'wikipediaUrl': 'https://en.wikipedia.org/wiki/Seattle'}],\n                'id': '2'}],\n 'errors': []}\n"
     ]
    }
   ],
   "source": [
    "get_data_from_text_analytics(\"entities\")"
   ]
  },
  {
   "source": [
    "## Key Phrases\n",
    "### REST API\n",
    "* Reference: https://docs.microsoft.com/en-us/learn/modules/extract-key-phrases-text-analytics-api/2-exercise-prepare-json-document-use-key-phrase-extraction"
   ],
   "cell_type": "markdown",
   "metadata": {}
  },
  {
   "cell_type": "code",
   "execution_count": 24,
   "metadata": {},
   "outputs": [
    {
     "output_type": "stream",
     "name": "stdout",
     "text": [
      "{'documents': [{'id': '1',\n                'keyPhrases': ['Bill Gates',\n                               'Paul Allen',\n                               'BASIC interpreters',\n                               'Altair',\n                               'Microsoft']},\n               {'id': '2',\n                'keyPhrases': ['Microsoft se encuentra en',\n                               'Redmond',\n                               'ciudad',\n                               'sede principal',\n                               'kilómetros',\n                               'Seattle']}],\n 'errors': []}\n"
     ]
    }
   ],
   "source": [
    "get_data_from_text_analytics('keyPhrases')"
   ]
  },
  {
   "source": [
    "### SDK\n",
    "* Reference: https://docs.microsoft.com/en-us/learn/modules/extract-key-phrases-text-analytics-api/3-exercise-structure-submit-request?pivots=python"
   ],
   "cell_type": "markdown",
   "metadata": {}
  },
  {
   "cell_type": "code",
   "execution_count": 31,
   "metadata": {},
   "outputs": [
    {
     "output_type": "stream",
     "name": "stdout",
     "text": [
      "Collecting azure-cognitiveservices-language-textanalytics\n  Downloading azure_cognitiveservices_language_textanalytics-0.2.0-py2.py3-none-any.whl (43 kB)\nRequirement already satisfied, skipping upgrade: azure-common~=1.1 in c:\\users\\anacarolines\\anaconda3\\lib\\site-packages (from azure-cognitiveservices-language-textanalytics) (1.1.26)\nRequirement already satisfied, skipping upgrade: msrest>=0.5.0 in c:\\users\\anacarolines\\anaconda3\\lib\\site-packages (from azure-cognitiveservices-language-textanalytics) (0.6.21)\nRequirement already satisfied, skipping upgrade: isodate>=0.6.0 in c:\\users\\anacarolines\\anaconda3\\lib\\site-packages (from msrest>=0.5.0->azure-cognitiveservices-language-textanalytics) (0.6.0)\nRequirement already satisfied, skipping upgrade: requests-oauthlib>=0.5.0 in c:\\users\\anacarolines\\anaconda3\\lib\\site-packages (from msrest>=0.5.0->azure-cognitiveservices-language-textanalytics) (1.3.0)\nRequirement already satisfied, skipping upgrade: requests~=2.16 in c:\\users\\anacarolines\\anaconda3\\lib\\site-packages (from msrest>=0.5.0->azure-cognitiveservices-language-textanalytics) (2.24.0)\nRequirement already satisfied, skipping upgrade: certifi>=2017.4.17 in c:\\users\\anacarolines\\anaconda3\\lib\\site-packages (from msrest>=0.5.0->azure-cognitiveservices-language-textanalytics) (2020.6.20)\nRequirement already satisfied, skipping upgrade: six in c:\\users\\anacarolines\\anaconda3\\lib\\site-packages (from isodate>=0.6.0->msrest>=0.5.0->azure-cognitiveservices-language-textanalytics) (1.15.0)\nRequirement already satisfied, skipping upgrade: oauthlib>=3.0.0 in c:\\users\\anacarolines\\anaconda3\\lib\\site-packages (from requests-oauthlib>=0.5.0->msrest>=0.5.0->azure-cognitiveservices-language-textanalytics) (3.1.0)\nRequirement already satisfied, skipping upgrade: urllib3!=1.25.0,!=1.25.1,<1.26,>=1.21.1 in c:\\users\\anacarolines\\anaconda3\\lib\\site-packages (from requests~=2.16->msrest>=0.5.0->azure-cognitiveservices-language-textanalytics) (1.25.11)\nRequirement already satisfied, skipping upgrade: idna<3,>=2.5 in c:\\users\\anacarolines\\anaconda3\\lib\\site-packages (from requests~=2.16->msrest>=0.5.0->azure-cognitiveservices-language-textanalytics) (2.10)\nRequirement already satisfied, skipping upgrade: chardet<4,>=3.0.2 in c:\\users\\anacarolines\\anaconda3\\lib\\site-packages (from requests~=2.16->msrest>=0.5.0->azure-cognitiveservices-language-textanalytics) (3.0.4)\nInstalling collected packages: azure-cognitiveservices-language-textanalytics\nSuccessfully installed azure-cognitiveservices-language-textanalytics-0.2.0\n"
     ]
    }
   ],
   "source": [
    "!pip install --upgrade azure-cognitiveservices-language-textanalytics"
   ]
  },
  {
   "cell_type": "code",
   "execution_count": 32,
   "metadata": {},
   "outputs": [],
   "source": [
    "import os\n",
    "from azure.cognitiveservices.language.textanalytics import TextAnalyticsClient\n",
    "from msrest.authentication import CognitiveServicesCredentials"
   ]
  },
  {
   "cell_type": "code",
   "execution_count": 35,
   "metadata": {},
   "outputs": [],
   "source": [
    "def authenticateClient():\n",
    "    credentials = CognitiveServicesCredentials(key)\n",
    "    text_analytics_client = TextAnalyticsClient(\n",
    "        endpoint=endpoint, credentials=credentials)\n",
    "    return text_analytics_client"
   ]
  },
  {
   "cell_type": "code",
   "execution_count": 40,
   "metadata": {},
   "outputs": [],
   "source": [
    "def key_phrases(documents):\n",
    "\n",
    "    client = authenticateClient()\n",
    "\n",
    "    try:\n",
    "        for document in documents:\n",
    "            print(\n",
    "                \"Asking key-phrases on '{}' (id: {})\".format(document['text'], document['id']))\n",
    "\n",
    "        response = client.key_phrases(documents=documents)\n",
    "\n",
    "        for document in response.documents:\n",
    "            print(\"Document Id: \", document.id)\n",
    "            print(\"\\tKey Phrases:\")\n",
    "            for phrase in document.key_phrases:\n",
    "                print(\"\\t\\t\", phrase)\n",
    "\n",
    "    except Exception as err:\n",
    "        print(\"Encountered exception. {}\".format(err))"
   ]
  },
  {
   "cell_type": "code",
   "execution_count": 38,
   "metadata": {},
   "outputs": [],
   "source": [
    "documents = [\n",
    "            {\"id\": \"1\", \"language\": \"ja\", \"text\": \"猫は幸せ\"},\n",
    "            {\"id\": \"2\", \"language\": \"de\",\n",
    "                \"text\": \"Fahrt nach Stuttgart und dann zum Hotel zu Fu.\"},\n",
    "            {\"id\": \"3\", \"language\": \"en\",\n",
    "                \"text\": \"My cat might need to see a veterinarian.\"},\n",
    "            {\"id\": \"4\", \"language\": \"es\", \"text\": \"A mi me encanta el fútbol!\"}\n",
    "        ]"
   ]
  },
  {
   "cell_type": "code",
   "execution_count": 42,
   "metadata": {},
   "outputs": [
    {
     "output_type": "stream",
     "name": "stdout",
     "text": [
      "Asking key-phrases on '猫は幸せ' (id: 1)\n",
      "Asking key-phrases on 'Fahrt nach Stuttgart und dann zum Hotel zu Fu.' (id: 2)\n",
      "Asking key-phrases on 'My cat might need to see a veterinarian.' (id: 3)\n",
      "Asking key-phrases on 'A mi me encanta el fútbol!' (id: 4)\n",
      "Encountered exception. Operation returned an invalid status code 'Resource Not Found'\n"
     ]
    }
   ],
   "source": [
    "key_phrases(documents)"
   ]
  },
  {
   "source": [
    "## Sentiment\n"
   ],
   "cell_type": "markdown",
   "metadata": {}
  },
  {
   "cell_type": "code",
   "execution_count": 25,
   "metadata": {},
   "outputs": [
    {
     "output_type": "stream",
     "name": "stdout",
     "text": [
      "{'documents': [{'id': '1', 'score': 0.5}, {'id': '2', 'score': 0.5}],\n 'errors': []}\n"
     ]
    }
   ],
   "source": [
    "# 1 positive, 0 negative, 0.5 neutral\n",
    "get_data_from_text_analytics('sentiment')"
   ]
  },
  {
   "cell_type": "code",
   "execution_count": null,
   "metadata": {},
   "outputs": [],
   "source": []
  }
 ]
}