{
 "metadata": {
  "language_info": {
   "codemirror_mode": {
    "name": "ipython",
    "version": 3
   },
   "file_extension": ".py",
   "mimetype": "text/x-python",
   "name": "python",
   "nbconvert_exporter": "python",
   "pygments_lexer": "ipython3",
   "version": "3.8.5-final"
  },
  "orig_nbformat": 2,
  "kernelspec": {
   "name": "python3",
   "display_name": "Python 3.8.5 64-bit (conda)",
   "metadata": {
    "interpreter": {
     "hash": "ae3aa6c730e1edb1dd98cf035d1e9499e7ec05eacdf7289be61cfcb5b0ba0660"
    }
   }
  }
 },
 "nbformat": 4,
 "nbformat_minor": 2,
 "cells": [
  {
   "source": [
    "# Azure Cognitive Language Services: Text Analytics \n",
    "## Entity Recognition\n",
    "* Reference: https://docs.microsoft.com/en-us/learn/modules/recognize-entities-text-analytics-api/4-exercise-structure-submit-request?pivots=python"
   ],
   "cell_type": "markdown",
   "metadata": {}
  },
  {
   "cell_type": "code",
   "execution_count": 3,
   "metadata": {},
   "outputs": [],
   "source": [
    "from pip._vendor import requests\n",
    "# pprint is used to format the JSON response\n",
    "from pprint import pprint\n",
    "import os, yaml"
   ]
  },
  {
   "cell_type": "code",
   "execution_count": 5,
   "metadata": {},
   "outputs": [],
   "source": [
    "config_file = os.path.join(\"config\",\"config.yaml\")\n",
    "with open(config_file, 'r') as ymlfile:\n",
    "    config = yaml.load(ymlfile, Loader=yaml.FullLoader)\n",
    "\n",
    "typee = 'entity_recognizer'\n",
    "key= config[typee]['key']\n",
    "endpoint = config[typee]['endpoint']\n",
    "\n",
    "# append the Text Analytics endpoint information to the URL\n",
    "entities_url = endpoint + \"/text/analytics/v2.1/entities\""
   ]
  },
  {
   "cell_type": "code",
   "execution_count": 6,
   "metadata": {},
   "outputs": [],
   "source": [
    "\n",
    "# variable to store a JSON formatted document that contains two entries in a JSON array.\n",
    "documents = {\"documents\": [\n",
    "    {\"id\": \"1\", \"text\": \"Microsoft was founded by Bill Gates and Paul Allen on April 4, 1975, to develop and sell BASIC interpreters for the Altair 8800.\"},\n",
    "    {\"id\": \"2\", \"text\": \"La sede principal de Microsoft se encuentra en la ciudad de Redmond, a 21 kilómetros de Seattle.\"}\n",
    "]}"
   ]
  },
  {
   "cell_type": "code",
   "execution_count": 8,
   "metadata": {},
   "outputs": [
    {
     "output_type": "stream",
     "name": "stdout",
     "text": [
      "{'documents': [{'entities': [{'bingId': 'a093e9b9-90f5-a3d5-c4b8-5855e1b01f85',\n                              'matches': [{'entityTypeScore': 1.0,\n                                           'length': 9,\n                                           'offset': 0,\n                                           'text': 'Microsoft',\n                                           'wikipediaScore': 0.5080587142195991}],\n                              'name': 'Microsoft',\n                              'type': 'Organization',\n                              'wikipediaId': 'Microsoft',\n                              'wikipediaLanguage': 'en',\n                              'wikipediaUrl': 'https://en.wikipedia.org/wiki/Microsoft'},\n                             {'bingId': '0d47c987-0042-5576-15e8-97af601614fa',\n                              'matches': [{'entityTypeScore': 1.0,\n                                           'length': 10,\n                                           'offset': 25,\n                                           'text': 'Bill Gates',\n                                           'wikipediaScore': 0.5601095924849657}],\n                              'name': 'Bill Gates',\n                              'type': 'Person',\n                              'wikipediaId': 'Bill Gates',\n                              'wikipediaLanguage': 'en',\n                              'wikipediaUrl': 'https://en.wikipedia.org/wiki/Bill_Gates'},\n                             {'bingId': 'df2c4376-9923-6a54-893f-2ee5a5badbc7',\n                              'matches': [{'entityTypeScore': 1.0,\n                                           'length': 10,\n                                           'offset': 40,\n                                           'text': 'Paul Allen',\n                                           'wikipediaScore': 0.5647133956039234}],\n                              'name': 'Paul Allen',\n                              'type': 'Person',\n                              'wikipediaId': 'Paul Allen',\n                              'wikipediaLanguage': 'en',\n                              'wikipediaUrl': 'https://en.wikipedia.org/wiki/Paul_Allen'},\n                             {'bingId': '52535f87-235e-b513-54fe-c03e4233ac6e',\n                              'matches': [{'length': 7,\n                                           'offset': 54,\n                                           'text': 'April 4',\n                                           'wikipediaScore': 0.34538928435757743}],\n                              'name': 'April 4',\n                              'type': 'Other',\n                              'wikipediaId': 'April 4',\n                              'wikipediaLanguage': 'en',\n                              'wikipediaUrl': 'https://en.wikipedia.org/wiki/April_4'},\n                             {'matches': [{'entityTypeScore': 0.8,\n                                           'length': 13,\n                                           'offset': 54,\n                                           'text': 'April 4, 1975'}],\n                              'name': 'April 4, 1975',\n                              'subType': 'Date',\n                              'type': 'DateTime'},\n                             {'bingId': '5b16443d-501c-58f3-352e-611bbe75aa6e',\n                              'matches': [{'length': 5,\n                                           'offset': 89,\n                                           'text': 'BASIC',\n                                           'wikipediaScore': 0.313848923908594}],\n                              'name': 'BASIC',\n                              'type': 'Other',\n                              'wikipediaId': 'BASIC',\n                              'wikipediaLanguage': 'en',\n                              'wikipediaUrl': 'https://en.wikipedia.org/wiki/BASIC'},\n                             {'bingId': '7216c654-3779-68a2-c7b7-12ff3dad5606',\n                              'matches': [{'length': 11,\n                                           'offset': 116,\n                                           'text': 'Altair 8800',\n                                           'wikipediaScore': 0.8690828819485741}],\n                              'name': 'Altair 8800',\n                              'type': 'Other',\n                              'wikipediaId': 'Altair 8800',\n                              'wikipediaLanguage': 'en',\n                              'wikipediaUrl': 'https://en.wikipedia.org/wiki/Altair_8800'},\n                             {'matches': [{'entityTypeScore': 0.53,\n                                           'length': 6,\n                                           'offset': 116,\n                                           'text': 'Altair'}],\n                              'name': 'Altair',\n                              'type': 'Organization'},\n                             {'matches': [{'entityTypeScore': 0.8,\n                                           'length': 4,\n                                           'offset': 123,\n                                           'text': '8800'}],\n                              'name': '8800',\n                              'subType': 'Number',\n                              'type': 'Quantity'}],\n                'id': '1'},\n               {'entities': [{'bingId': '9958ca5c-ea31-4e71-8a17-bd1e7839c723',\n                              'matches': [{'length': 2,\n                                           'offset': 0,\n                                           'text': 'La',\n                                           'wikipediaScore': 0.30040765508151623}],\n                              'name': 'Los Angeles',\n                              'type': 'Location',\n                              'wikipediaId': 'Los Angeles',\n                              'wikipediaLanguage': 'en',\n                              'wikipediaUrl': 'https://en.wikipedia.org/wiki/Los_Angeles'},\n                             {'bingId': 'fcd618bb-507a-9e62-d79d-1a5879826c7b',\n                              'matches': [{'length': 12,\n                                           'offset': 21,\n                                           'text': 'Microsoft se',\n                                           'wikipediaScore': 0.7371098016659869}],\n                              'name': 'Microsoft Security Essentials',\n                              'type': 'Other',\n                              'wikipediaId': 'Microsoft Security Essentials',\n                              'wikipediaLanguage': 'en',\n                              'wikipediaUrl': 'https://en.wikipedia.org/wiki/Microsoft_Security_Essentials'},\n                             {'matches': [{'entityTypeScore': 0.98,\n                                           'length': 9,\n                                           'offset': 21,\n                                           'text': 'Microsoft'}],\n                              'name': 'Microsoft',\n                              'type': 'Organization'},\n                             {'bingId': '8769d4c0-b645-70ac-03ec-6eebabf6d26e',\n                              'matches': [{'length': 7,\n                                           'offset': 60,\n                                           'text': 'Redmond',\n                                           'wikipediaScore': 0.26409485301604274}],\n                              'name': 'Redmond, Washington',\n                              'type': 'Location',\n                              'wikipediaId': 'Redmond, Washington',\n                              'wikipediaLanguage': 'en',\n                              'wikipediaUrl': 'https://en.wikipedia.org/wiki/Redmond,_Washington'},\n                             {'matches': [{'entityTypeScore': 0.8,\n                                           'length': 2,\n                                           'offset': 71,\n                                           'text': '21'}],\n                              'name': '21',\n                              'subType': 'Number',\n                              'type': 'Quantity'},\n                             {'bingId': '5fbba6b8-85e1-4d41-9444-d9055436e473',\n                              'matches': [{'length': 7,\n                                           'offset': 88,\n                                           'text': 'Seattle',\n                                           'wikipediaScore': 0.2532550419415718}],\n                              'name': 'Seattle',\n                              'type': 'Location',\n                              'wikipediaId': 'Seattle',\n                              'wikipediaLanguage': 'en',\n                              'wikipediaUrl': 'https://en.wikipedia.org/wiki/Seattle'}],\n                'id': '2'}],\n 'errors': []}\n"
     ]
    }
   ],
   "source": [
    "# Setup the header information for the REST request passing in the subscription key\n",
    "headers = {\"Ocp-Apim-Subscription-Key\": key}\n",
    "\n",
    "# Build the REST request by passing in the complete URL, header information for authentication, and the JSON document\n",
    "response = requests.post(entities_url, headers=headers, json=documents)\n",
    "\n",
    "# Create a variable to store the results that are returned from the REST request\n",
    "entities = response.json()\n",
    "\n",
    "# Output the result using pprint.\n",
    "pprint(entities)"
   ]
  },
  {
   "cell_type": "code",
   "execution_count": null,
   "metadata": {},
   "outputs": [],
   "source": []
  }
 ]
}